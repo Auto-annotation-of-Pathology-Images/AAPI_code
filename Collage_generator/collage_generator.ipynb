{
  "nbformat": 4,
  "nbformat_minor": 0,
  "metadata": {
    "colab": {
      "name": "collage_generator.ipynb",
      "provenance": []
    },
    "kernelspec": {
      "name": "python3",
      "display_name": "Python 3"
    }
  },
  "cells": [
    {
      "cell_type": "code",
      "metadata": {
        "id": "Ey_Hx-ePmnEh",
        "outputId": "04734bee-dc69-417c-936a-845f6d75a398",
        "colab": {
          "base_uri": "https://localhost:8080/",
          "height": 119
        }
      },
      "source": [
        "!git clone https://github.com/Auto-annotation-of-Pathology-Images/AAPI_code.git"
      ],
      "execution_count": 1,
      "outputs": [
        {
          "output_type": "stream",
          "text": [
            "Cloning into 'AAPI_code'...\n",
            "remote: Enumerating objects: 24, done.\u001b[K\n",
            "remote: Counting objects: 100% (24/24), done.\u001b[K\n",
            "remote: Compressing objects: 100% (17/17), done.\u001b[K\n",
            "remote: Total 24 (delta 4), reused 6 (delta 0), pack-reused 0\u001b[K\n",
            "Unpacking objects: 100% (24/24), done.\n"
          ],
          "name": "stdout"
        }
      ]
    },
    {
      "cell_type": "code",
      "metadata": {
        "id": "zz_2qBZmrvZC"
      },
      "source": [
        "%%capture\n",
        "!apt update && apt install -y openslide-tools\n",
        "!pip install openslide-python\n",
        "import openslide"
      ],
      "execution_count": null,
      "outputs": []
    },
    {
      "cell_type": "code",
      "metadata": {
        "id": "OA7gZdr8mrB0"
      },
      "source": [
        "from AAPI_code.Collage_generator.collage_generator import collage_generator\n",
        "from AAPI_code.Collage_generator.utils import *"
      ],
      "execution_count": 5,
      "outputs": []
    },
    {
      "cell_type": "markdown",
      "metadata": {
        "id": "hOWHOpFqnzJ6"
      },
      "source": [
        "# Importing images from CVAT result"
      ]
    },
    {
      "cell_type": "code",
      "metadata": {
        "id": "dwiQvclBrtKc"
      },
      "source": [
        "%%capture\n",
        "!unzip \"/content/task_glom-2020_10_03_00_54_30-segmentation mask 1.1.zip\""
      ],
      "execution_count": null,
      "outputs": []
    },
    {
      "cell_type": "code",
      "metadata": {
        "id": "lJREFBJunwkM"
      },
      "source": [
        "# this method only read everything together\n",
        "segmentation = os.listdir(\"SegmentationObject\")\n",
        "extracted = [crop_image(extract_image(i)) for i in segmentation]"
      ],
      "execution_count": null,
      "outputs": []
    },
    {
      "cell_type": "markdown",
      "metadata": {
        "id": "uyWjiATGoMan"
      },
      "source": [
        "# Importing cropped images"
      ]
    },
    {
      "cell_type": "code",
      "metadata": {
        "id": "we5zXDpJoKWZ"
      },
      "source": [
        "segmentation = os.listdir(\"Cropped_image\")\n",
        "extracted = [np.array(Img.open(i).convert(\"RGB\")) for i in segmentation]"
      ],
      "execution_count": null,
      "outputs": []
    },
    {
      "cell_type": "markdown",
      "metadata": {
        "id": "SZmKhwTvom_0"
      },
      "source": [
        "# collage_generator"
      ]
    },
    {
      "cell_type": "markdown",
      "metadata": {
        "id": "eWEGC86MpToT"
      },
      "source": [
        "## Initialization:  \n",
        "example_image.jpg should be okay for background setting  \n",
        "you can define another `keras.preprocessing.image.ImageDataGenerator `, when it's None it will use the original setting."
      ]
    },
    {
      "cell_type": "code",
      "metadata": {
        "id": "Wmyh2P-Gm11T"
      },
      "source": [
        "col_gen = collage_generator(label_list= [\"glomerulus\", \"artery\"], \n",
        "                            canvas_size=(1024,1024),\n",
        "                            example_image = \"/content/AAPI_code/Collage_generator/example_background.jpg\",\n",
        "                            gaussian_noise_constant = 100,\n",
        "                            patience = 10,\n",
        "                            imagedatagenerator = None)"
      ],
      "execution_count": 6,
      "outputs": []
    },
    {
      "cell_type": "markdown",
      "metadata": {
        "id": "qvp8zk95p1rG"
      },
      "source": [
        "## Add Image\n",
        "`img` can be path, np.ndarray, or PIL image object.  \n",
        "Personally suggest that set `pre_determined_size = False`, it can help setting a correct \"original size\" on the canvas, (80,75) is by estimation from the online svs file"
      ]
    },
    {
      "cell_type": "code",
      "metadata": {
        "id": "4paAbJVZnmJu"
      },
      "source": [
        "for image in extracted:\n",
        "    col_gen.add_image(img = image, label = \"glomerulus\", size = (80,75), pre_determined_size = True)\n",
        "col_gen.add_image(img = \"/content/Image_215_artery_cv2.png\", label = \"artery\", size = (80,75), pre_determined_size = True)"
      ],
      "execution_count": null,
      "outputs": []
    },
    {
      "cell_type": "markdown",
      "metadata": {
        "id": "SKLObeFWq1D8"
      },
      "source": [
        "## Generate\n",
        "\n",
        "Just like that... `ratio_list` defines the ratio of different entity (glomerulus, artery, etc.) you can call `col_gen.label_list` for the actual order, it's okay to have them not sum to 1."
      ]
    },
    {
      "cell_type": "code",
      "metadata": {
        "id": "jdhoK9Hgqa3M"
      },
      "source": [
        "collage, mask, dictionary = col_gen.generate(item_num = 200, ratio_list = [0.5,0.5])\n",
        "\n",
        "f, axarr = plt.subplots(1,2)\n",
        "axarr[0].set_axis_off()\n",
        "im1 = axarr[0].imshow(collage)\n",
        "axarr[1].set_axis_off()\n",
        "im2 = axarr[1].imshow(mask)\n",
        "plt.colorbar(im2, ax=axarr[1])\n",
        "print(dictionary)"
      ],
      "execution_count": null,
      "outputs": []
    }
  ]
}