{
 "cells": [
  {
   "cell_type": "code",
   "execution_count": null,
   "metadata": {
    "colab": {
     "base_uri": "https://localhost:8080/",
     "height": 119
    },
    "id": "Ey_Hx-ePmnEh",
    "outputId": "04734bee-dc69-417c-936a-845f6d75a398"
   },
   "outputs": [],
   "source": [
    "!git clone https://github.com/Auto-annotation-of-Pathology-Images/AAPI_code.git"
   ]
  },
  {
   "cell_type": "markdown",
   "metadata": {},
   "source": [
    "This demo is working for google colab"
   ]
  },
  {
   "cell_type": "code",
   "execution_count": null,
   "metadata": {
    "id": "OA7gZdr8mrB0",
    "scrolled": true
   },
   "outputs": [],
   "source": [
    "from AAPI_code.Collage_generator.collage_generator import collage_generator\n",
    "from AAPI_code.Collage_generator.utils import *"
   ]
  },
  {
   "cell_type": "markdown",
   "metadata": {
    "id": "uyWjiATGoMan"
   },
   "source": [
    "# Importing cropped images"
   ]
  },
  {
   "cell_type": "code",
   "execution_count": null,
   "metadata": {
    "id": "we5zXDpJoKWZ"
   },
   "outputs": [],
   "source": [
    "image_list, label_list = import_git_images()"
   ]
  },
  {
   "cell_type": "markdown",
   "metadata": {
    "id": "eWEGC86MpToT"
   },
   "source": [
    "# Initialization:  \n",
    "example_image.jpg should be okay for background setting  \n",
    "you can define another `keras.preprocessing.image.ImageDataGenerator `, when it's None it will use the original setting."
   ]
  },
  {
   "cell_type": "code",
   "execution_count": null,
   "metadata": {
    "id": "Wmyh2P-Gm11T"
   },
   "outputs": [],
   "source": [
    "col_gen = collage_generator(label_list= label_list, \n",
    "                            canvas_size=(1024,1024),\n",
    "                            example_image = \"/content/AAPI_code/Collage_generator/example_background_dark.png\",\n",
    "                            gaussian_noise_constant = 100,\n",
    "                            patience = 20,\n",
    "                            scanning_constant = 50,\n",
    "                            imagedatagenerator = None)"
   ]
  },
  {
   "cell_type": "markdown",
   "metadata": {
    "id": "qvp8zk95p1rG"
   },
   "source": [
    "# Add Image\n",
    "`img` can be path, np.ndarray, or PIL image object.  \n",
    "Personally suggest that set `pre_determined_size = False` first, it can help setting a correct \"original size\""
   ]
  },
  {
   "cell_type": "code",
   "execution_count": null,
   "metadata": {
    "id": "4paAbJVZnmJu"
   },
   "outputs": [],
   "source": [
    "# The final size is not decided, this value is for demo\n",
    "size_dict = {'glomerulus': (400,400), 'tubules':(250,250), 'artery':(400,400), 'arteriole':(300,300)}\n",
    "\n",
    "for label,images in zip(label_list, image_list):\n",
    "    for image in images:\n",
    "        col_gen.add_image(img = image, \n",
    "                          label = label, \n",
    "                          size = size_dict[label], \n",
    "                          pre_determined_size = True)"
   ]
  },
  {
   "cell_type": "markdown",
   "metadata": {
    "id": "SKLObeFWq1D8"
   },
   "source": [
    "# Generate\n",
    "\n",
    "Just like that... `ratio_list` defines the ratio of different entity (glomerulus, artery, etc.) you can call `col_gen.label_list` for the actual order, it's okay to have them not sum to 1."
   ]
  },
  {
   "cell_type": "code",
   "execution_count": null,
   "metadata": {
    "id": "jdhoK9Hgqa3M"
   },
   "outputs": [],
   "source": [
    "collage,mask, dictionary = col_gen.generate(ratio_list = [0.8,0.05,0.1,0.05],\n",
    "                                            background_color = False)\n",
    "visualize_result(collage, mask, dictionary)"
   ]
  },
  {
   "cell_type": "code",
   "execution_count": null,
   "metadata": {},
   "outputs": [],
   "source": [
    "collage,mask, dictionary = col_gen.generate(ratio_list = [0.8,0.05,0.1,0.05],\n",
    "                                            background_color = True)\n",
    "visualize_result(collage, mask, dictionary)"
   ]
  },
  {
   "cell_type": "code",
   "execution_count": null,
   "metadata": {},
   "outputs": [],
   "source": [
    "col_gen.generate_hdf5(\"try.h5\", # this path can have .h5 extension or not\n",
    "                      length = 2, # the number of image generated\n",
    "                      vignettes_ratio_list=[0.8,0.05,0.1,0.05],\n",
    "                      background_color_ratio=1.0 # Maybe some of the training need white background?\n",
    "                      )"
   ]
  },
  {
   "cell_type": "markdown",
   "metadata": {},
   "source": [
    "# generating_dataset\n",
    "\n",
    "If want to start from raw, a generating_dataset class is implemented if not trying to read hdf5. But this one will not be used often"
   ]
  },
  {
   "cell_type": "code",
   "execution_count": null,
   "metadata": {},
   "outputs": [],
   "source": [
    "from AAPI_code.Collage_generator.generating_dataset import generating_dataset\n",
    "from torch.utils.data import DataLoader\n",
    "\n",
    "collage_dataset = generating_dataset(collage_generator= col_gen,\n",
    "                                     dataset_size = 3)"
   ]
  },
  {
   "cell_type": "code",
   "execution_count": null,
   "metadata": {},
   "outputs": [],
   "source": [
    "EPOCHS = 10\n",
    "\n",
    "data_loader = DataLoader(collage_dataset, batch_size = 3, shuffle = True)\n",
    "\n",
    "criterion = nn.CrossEntropyLoss(reduction=\"mean\")\n",
    "\n",
    "unet = UNet(in_channels=3,\n",
    "            n_classes=5,\n",
    "            depth = 8,\n",
    "            wf = 3,\n",
    "            padding = True,\n",
    "            batch_norm = True,\n",
    "            up_mode = \"upconv\"\n",
    "            )\n",
    "\n",
    "optimizer = torch.optim.Adam(params = unet.parameters(),lr = 1e-3)\n",
    "\n",
    "scheduler = ReduceLROnPlateau(optimizer, factor=0.1, patience = 25, verbose = True)"
   ]
  },
  {
   "cell_type": "code",
   "execution_count": null,
   "metadata": {},
   "outputs": [],
   "source": [
    "i = 0\n",
    "for epochs in tqdm(range(EPOCHS), desc = \"Epochs\", leave = True):\n",
    "    for image, mask in tqdm(data_loader, desc = f\"Epoch {epochs}\", leave = False):\n",
    "        result = unet(image)\n",
    "        loss = criterion(result, mask)\n",
    "        loss.backward()\n",
    "        optimizer.step()\n",
    "        l = loss.item()\n",
    "        print(l)\n",
    "    scheduler.step(l)"
   ]
  }
 ],
 "metadata": {
  "colab": {
   "name": "collage_generator.ipynb",
   "provenance": []
  },
  "kernelspec": {
   "display_name": "Python 3",
   "language": "python",
   "name": "python3"
  },
  "language_info": {
   "codemirror_mode": {
    "name": "ipython",
    "version": 3
   },
   "file_extension": ".py",
   "mimetype": "text/x-python",
   "name": "python",
   "nbconvert_exporter": "python",
   "pygments_lexer": "ipython3",
   "version": "3.7.3"
  }
 },
 "nbformat": 4,
 "nbformat_minor": 1
}
